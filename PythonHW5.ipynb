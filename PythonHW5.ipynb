{
 "cells": [
  {
   "cell_type": "markdown",
   "metadata": {},
   "source": [
    "# Python Homework 5\n",
    "\n",
    "**Release date:** Thursday, July 24th <br>\n",
    "**Due date:** Wednesday, __July 30th__, 11:59 p.m. via Gradescope\n",
    "\n",
    "**Instruction:** Please upload your ipynb file on Gradescope with filename \"PythonHW5_YOURPERMNUMBER\"."
   ]
  },
  {
   "cell_type": "code",
   "execution_count": 1,
   "metadata": {},
   "outputs": [],
   "source": [
    "# I also decided to add pandas so I can display transition matrices more cleanly\n",
    "import pandas as pd\n",
    "import numpy as np \n",
    "from numpy import linalg \n",
    "import scipy.linalg\n",
    "import matplotlib.pyplot as plt"
   ]
  },
  {
   "cell_type": "markdown",
   "metadata": {},
   "source": [
    "# Problem 1 (10 pt)\n",
    "\n",
    "Consider a Markov chain with 5 states  $S=\\{1,2,3,4,5 \\}$. The transition matrix is given by: \n",
    "\n",
    "\\begin{gather*}\n",
    "P= \\begin{pmatrix}\n",
    " 0.3 & 0.5 & 0 & 0 & 0.2  \\\\\n",
    "0.5 & 0 & 0.5 & 0 & 0 \\\\\n",
    "0.1 & 0.6 & 0.2 & 0.1 & 0 \\\\\n",
    "0.1 & 0 & 0 & 0.9 & 0\\\\\n",
    "0 & 0 & 0 & 0 & 1\\\\\\end{pmatrix}.\n",
    "\\end{gather*}\n",
    "\n",
    "Each time the chain is in state $i=1,2,3$ you get a reward of $i$ dollars. When the chain is in states 4 or 5, you get zero reward. "
   ]
  },
  {
   "cell_type": "markdown",
   "metadata": {},
   "source": [
    "1. <font color=\"red\">__(2 Points)__</font> Describe in 2-3 sentences what happens to $X_n$ in the long-run, as $n \\to \\infty$ (justify your answer). To support your answer, compute and print out $P^n$ for $n=10,25,100$.\n"
   ]
  },
  {
   "cell_type": "markdown",
   "metadata": {},
   "source": [
    "**Student explanation**:\n",
    "In the long-run, as n approaches infinity, $X_n$ will be in state 5. This is because state 5 is an absorbing state, and while 5 can only be accessed by either starting in state 5 or state 1, all states can access state 1 so there's always a path to 5, where it will stay."
   ]
  },
  {
   "cell_type": "code",
   "execution_count": 2,
   "metadata": {},
   "outputs": [
    {
     "name": "stdout",
     "output_type": "stream",
     "text": [
      "10 step matrix:\n"
     ]
    },
    {
     "data": {
      "text/html": [
       "<div>\n",
       "<style scoped>\n",
       "    .dataframe tbody tr th:only-of-type {\n",
       "        vertical-align: middle;\n",
       "    }\n",
       "\n",
       "    .dataframe tbody tr th {\n",
       "        vertical-align: top;\n",
       "    }\n",
       "\n",
       "    .dataframe thead th {\n",
       "        text-align: right;\n",
       "    }\n",
       "</style>\n",
       "<table border=\"1\" class=\"dataframe\">\n",
       "  <thead>\n",
       "    <tr style=\"text-align: right;\">\n",
       "      <th></th>\n",
       "      <th>1</th>\n",
       "      <th>2</th>\n",
       "      <th>3</th>\n",
       "      <th>4</th>\n",
       "      <th>5</th>\n",
       "    </tr>\n",
       "  </thead>\n",
       "  <tbody>\n",
       "    <tr>\n",
       "      <th>1</th>\n",
       "      <td>0.129436</td>\n",
       "      <td>0.125285</td>\n",
       "      <td>0.090454</td>\n",
       "      <td>0.076264</td>\n",
       "      <td>0.578561</td>\n",
       "    </tr>\n",
       "    <tr>\n",
       "      <th>2</th>\n",
       "      <td>0.158628</td>\n",
       "      <td>0.162810</td>\n",
       "      <td>0.107194</td>\n",
       "      <td>0.109608</td>\n",
       "      <td>0.461760</td>\n",
       "    </tr>\n",
       "    <tr>\n",
       "      <th>3</th>\n",
       "      <td>0.171912</td>\n",
       "      <td>0.161976</td>\n",
       "      <td>0.115233</td>\n",
       "      <td>0.142469</td>\n",
       "      <td>0.408410</td>\n",
       "    </tr>\n",
       "    <tr>\n",
       "      <th>4</th>\n",
       "      <td>0.158289</td>\n",
       "      <td>0.124860</td>\n",
       "      <td>0.076264</td>\n",
       "      <td>0.378603</td>\n",
       "      <td>0.261983</td>\n",
       "    </tr>\n",
       "    <tr>\n",
       "      <th>5</th>\n",
       "      <td>0.000000</td>\n",
       "      <td>0.000000</td>\n",
       "      <td>0.000000</td>\n",
       "      <td>0.000000</td>\n",
       "      <td>1.000000</td>\n",
       "    </tr>\n",
       "  </tbody>\n",
       "</table>\n",
       "</div>"
      ],
      "text/plain": [
       "          1         2         3         4         5\n",
       "1  0.129436  0.125285  0.090454  0.076264  0.578561\n",
       "2  0.158628  0.162810  0.107194  0.109608  0.461760\n",
       "3  0.171912  0.161976  0.115233  0.142469  0.408410\n",
       "4  0.158289  0.124860  0.076264  0.378603  0.261983\n",
       "5  0.000000  0.000000  0.000000  0.000000  1.000000"
      ]
     },
     "metadata": {},
     "output_type": "display_data"
    },
    {
     "name": "stdout",
     "output_type": "stream",
     "text": [
      "25 step matrix:\n"
     ]
    },
    {
     "data": {
      "text/html": [
       "<div>\n",
       "<style scoped>\n",
       "    .dataframe tbody tr th:only-of-type {\n",
       "        vertical-align: middle;\n",
       "    }\n",
       "\n",
       "    .dataframe tbody tr th {\n",
       "        vertical-align: top;\n",
       "    }\n",
       "\n",
       "    .dataframe thead th {\n",
       "        text-align: right;\n",
       "    }\n",
       "</style>\n",
       "<table border=\"1\" class=\"dataframe\">\n",
       "  <thead>\n",
       "    <tr style=\"text-align: right;\">\n",
       "      <th></th>\n",
       "      <th>1</th>\n",
       "      <th>2</th>\n",
       "      <th>3</th>\n",
       "      <th>4</th>\n",
       "      <th>5</th>\n",
       "    </tr>\n",
       "  </thead>\n",
       "  <tbody>\n",
       "    <tr>\n",
       "      <th>1</th>\n",
       "      <td>0.047356</td>\n",
       "      <td>0.044234</td>\n",
       "      <td>0.029891</td>\n",
       "      <td>0.053301</td>\n",
       "      <td>0.825218</td>\n",
       "    </tr>\n",
       "    <tr>\n",
       "      <th>2</th>\n",
       "      <td>0.060872</td>\n",
       "      <td>0.056686</td>\n",
       "      <td>0.038255</td>\n",
       "      <td>0.069939</td>\n",
       "      <td>0.774248</td>\n",
       "    </tr>\n",
       "    <tr>\n",
       "      <th>3</th>\n",
       "      <td>0.067491</td>\n",
       "      <td>0.062545</td>\n",
       "      <td>0.042097</td>\n",
       "      <td>0.080241</td>\n",
       "      <td>0.747627</td>\n",
       "    </tr>\n",
       "    <tr>\n",
       "      <th>4</th>\n",
       "      <td>0.089964</td>\n",
       "      <td>0.080599</td>\n",
       "      <td>0.053301</td>\n",
       "      <td>0.130846</td>\n",
       "      <td>0.645290</td>\n",
       "    </tr>\n",
       "    <tr>\n",
       "      <th>5</th>\n",
       "      <td>0.000000</td>\n",
       "      <td>0.000000</td>\n",
       "      <td>0.000000</td>\n",
       "      <td>0.000000</td>\n",
       "      <td>1.000000</td>\n",
       "    </tr>\n",
       "  </tbody>\n",
       "</table>\n",
       "</div>"
      ],
      "text/plain": [
       "          1         2         3         4         5\n",
       "1  0.047356  0.044234  0.029891  0.053301  0.825218\n",
       "2  0.060872  0.056686  0.038255  0.069939  0.774248\n",
       "3  0.067491  0.062545  0.042097  0.080241  0.747627\n",
       "4  0.089964  0.080599  0.053301  0.130846  0.645290\n",
       "5  0.000000  0.000000  0.000000  0.000000  1.000000"
      ]
     },
     "metadata": {},
     "output_type": "display_data"
    },
    {
     "name": "stdout",
     "output_type": "stream",
     "text": [
      "100 step matrix:\n"
     ]
    },
    {
     "data": {
      "text/html": [
       "<div>\n",
       "<style scoped>\n",
       "    .dataframe tbody tr th:only-of-type {\n",
       "        vertical-align: middle;\n",
       "    }\n",
       "\n",
       "    .dataframe tbody tr th {\n",
       "        vertical-align: top;\n",
       "    }\n",
       "\n",
       "    .dataframe thead th {\n",
       "        text-align: right;\n",
       "    }\n",
       "</style>\n",
       "<table border=\"1\" class=\"dataframe\">\n",
       "  <thead>\n",
       "    <tr style=\"text-align: right;\">\n",
       "      <th></th>\n",
       "      <th>1</th>\n",
       "      <th>2</th>\n",
       "      <th>3</th>\n",
       "      <th>4</th>\n",
       "      <th>5</th>\n",
       "    </tr>\n",
       "  </thead>\n",
       "  <tbody>\n",
       "    <tr>\n",
       "      <th>1</th>\n",
       "      <td>0.000793</td>\n",
       "      <td>0.000725</td>\n",
       "      <td>0.000485</td>\n",
       "      <td>0.001020</td>\n",
       "      <td>0.996977</td>\n",
       "    </tr>\n",
       "    <tr>\n",
       "      <th>2</th>\n",
       "      <td>0.001026</td>\n",
       "      <td>0.000939</td>\n",
       "      <td>0.000628</td>\n",
       "      <td>0.001321</td>\n",
       "      <td>0.996085</td>\n",
       "    </tr>\n",
       "    <tr>\n",
       "      <th>3</th>\n",
       "      <td>0.001153</td>\n",
       "      <td>0.001055</td>\n",
       "      <td>0.000706</td>\n",
       "      <td>0.001483</td>\n",
       "      <td>0.995603</td>\n",
       "    </tr>\n",
       "    <tr>\n",
       "      <th>4</th>\n",
       "      <td>0.001666</td>\n",
       "      <td>0.001525</td>\n",
       "      <td>0.001020</td>\n",
       "      <td>0.002144</td>\n",
       "      <td>0.993645</td>\n",
       "    </tr>\n",
       "    <tr>\n",
       "      <th>5</th>\n",
       "      <td>0.000000</td>\n",
       "      <td>0.000000</td>\n",
       "      <td>0.000000</td>\n",
       "      <td>0.000000</td>\n",
       "      <td>1.000000</td>\n",
       "    </tr>\n",
       "  </tbody>\n",
       "</table>\n",
       "</div>"
      ],
      "text/plain": [
       "          1         2         3         4         5\n",
       "1  0.000793  0.000725  0.000485  0.001020  0.996977\n",
       "2  0.001026  0.000939  0.000628  0.001321  0.996085\n",
       "3  0.001153  0.001055  0.000706  0.001483  0.995603\n",
       "4  0.001666  0.001525  0.001020  0.002144  0.993645\n",
       "5  0.000000  0.000000  0.000000  0.000000  1.000000"
      ]
     },
     "metadata": {},
     "output_type": "display_data"
    }
   ],
   "source": [
    "# Write your code here\n",
    "P = np.array([[0.3, 0.5, 0.0, 0.0, 0.2],\n",
    "              [0.5, 0.0, 0.5, 0.0, 0.0],\n",
    "              [0.1, 0.6, 0.2, 0.1, 0.0],\n",
    "              [0.1, 0.0, 0.0, 0.9, 0.0],\n",
    "              [0.0, 0.0, 0.0, 0.0, 1.0]])\n",
    "\n",
    "states = [1, 2, 3, 4, 5]\n",
    "\n",
    "# Print P^n for n=10, 25, 100\n",
    "for n in [10, 25, 100]:\n",
    "    print(f'{n} step matrix:')\n",
    "\n",
    "    # Compute n step matrix, store as DataFrame\n",
    "    n_matrix = pd.DataFrame(np.linalg.matrix_power(P, n), index = states, columns = states)\n",
    "\n",
    "    # Print DataFrame\n",
    "    display(n_matrix)"
   ]
  },
  {
   "cell_type": "markdown",
   "metadata": {},
   "source": [
    "2. <font color=\"red\">__(3 Points)__</font> We start with $X_0 = 1$ and are interested in analyzing the total winnings $W = \\sum_{n=0}^\\infty f(X_n)$ where $f(i) = i, i=1,2,3$ and $f(4) = f(5) = 0$ as above.  Using part a), explain in 2-3 sentences why $W$ is a finite random variable. \n",
    "\n",
    "To estimate *W*, write a function __simulateWinnings__ to simulate a trajectory of $X_0=1, X_1, \\ldots, X_{200}$ (so 201 steps for each trajectory) and record the respective total winnings on that simulation."
   ]
  },
  {
   "cell_type": "markdown",
   "metadata": {},
   "source": [
    "**Student Explanation**: $W$ is a finite random variable because you can only get winnings when in states $1$, $2$ and $3$. However, in the long-run, $X_n$ will hit state $5$ in finite time. Since 5 is an absorbing state, and any subsequent $X_n$'s will give no payout, the payout, $W$ will be finite."
   ]
  },
  {
   "cell_type": "code",
   "execution_count": 3,
   "metadata": {},
   "outputs": [],
   "source": [
    "# WRITE YOUR OWN CODE HERE\n",
    "def simulateWinnings(i): # Since in another part we calculate with a different X_0, add state parameter. i is equal to what X_0 we start with\n",
    "\n",
    "    # states to travel to and from\n",
    "    states = [1, 2, 3, 4, 5]\n",
    "\n",
    "    # Initiate a list to store f(i) values from X_n values\n",
    "    i_n = []\n",
    "    \n",
    "    # Initiate X_0 = 1\n",
    "    current_state = i\n",
    "    winnings = 0\n",
    "\n",
    "    # Iterate over X_0 to X_200\n",
    "    for n in range(0, 201):\n",
    "\n",
    "        # Function f(i) as an if statement\n",
    "        if current_state < 4:\n",
    "            i_n.append(current_state)\n",
    "        else:\n",
    "            i_n.append(0)\n",
    "\n",
    "        if n < 200:\n",
    "            # Use transition matrix to simulate next step\n",
    "            next_state = np.random.choice(states, p = P[current_state - 1]) # Subtract one from current state since arrays indexed from 0 to 4\n",
    "\n",
    "            # Change current state to next state\n",
    "            current_state = next_state\n",
    "\n",
    "    # Calculate total winnings from X_0 to X_200\n",
    "    winnings += sum(i_n)\n",
    "    \n",
    "    return winnings"
   ]
  },
  {
   "cell_type": "code",
   "execution_count": 6,
   "metadata": {},
   "outputs": [
    {
     "data": {
      "text/plain": [
       "43"
      ]
     },
     "execution_count": 6,
     "metadata": {},
     "output_type": "execute_result"
    }
   ],
   "source": [
    "simulateWinnings(1)"
   ]
  },
  {
   "cell_type": "markdown",
   "metadata": {},
   "source": [
    "3. <font color=\"red\"> __(5 Points)__</font> Use your function to generate $M=1000$ trajectories of $X_n, n=0,\\ldots, 200$. Plot a histogram of the resulting distribution of $W$ and report its mean and variance, i.e. the estimates of $\\mathbb{E}_1[W]$ and $Var(W | X_0 = 1)$.  **Repeat** the above but starting at $$X_0=3$$."
   ]
  },
  {
   "cell_type": "code",
   "execution_count": 7,
   "metadata": {},
   "outputs": [
    {
     "name": "stdout",
     "output_type": "stream",
     "text": [
      "The estimated mean of W is: 19.927\n",
      "The estimated variance of W is: 592.6122832832833\n"
     ]
    },
    {
     "data": {
      "image/png": "[encoded data removed]",
      "text/plain": [
       "<Figure size 640x480 with 1 Axes>"
      ]
     },
     "metadata": {},
     "output_type": "display_data"
    }
   ],
   "source": [
    "M = 1000\n",
    "\n",
    "# Initiate empty list to store simulateWinnings values for histogram\n",
    "simList = []\n",
    "\n",
    "# Run simulateWinnings 1000 times given X_0 = 1 and store in list\n",
    "for m in range(M):\n",
    "    simList.append(simulateWinnings(1))\n",
    "\n",
    "plt.hist(simList)\n",
    "plt.show\n",
    "\n",
    "# Convert simList to np array to calculate empirical mean and variance\n",
    "simList = np.array(simList)\n",
    "emp_mean = np.mean(simList)\n",
    "emp_var = np.var(simList, ddof = 1)\n",
    "\n",
    "print(f'The estimated mean of W is: {emp_mean}')\n",
    "\n",
    "print(f'The estimated variance of W is: {emp_var}')"
   ]
  },
  {
   "cell_type": "code",
   "execution_count": 8,
   "metadata": {},
   "outputs": [
    {
     "name": "stdout",
     "output_type": "stream",
     "text": [
      "The estimated mean of W is: 28.972\n",
      "The estimated variance of W is: 602.1733893893894\n"
     ]
    },
    {
     "data": {
      "image/png": "[encoded data removed]",
      "text/plain": [
       "<Figure size 640x480 with 1 Axes>"
      ]
     },
     "metadata": {},
     "output_type": "display_data"
    }
   ],
   "source": [
    "# For X_0 = 3\n",
    "\n",
    "# Initiate empty list to store simulateWinnings values \n",
    "simList3 = []\n",
    "\n",
    "# Run simulateWinnings 1000 times given X_0 = 3 and store in list\n",
    "for m in range(M):\n",
    "    simList3.append(simulateWinnings(3))\n",
    "\n",
    "plt.hist(simList3)\n",
    "plt.show\n",
    "\n",
    "# Convert simList to np array to calculate empirical mean and variance\n",
    "simList = np.array(simList3)\n",
    "emp_mean = np.mean(simList3)\n",
    "emp_var = np.var(simList3, ddof = 1)\n",
    "\n",
    "print(f'The estimated mean of W is: {emp_mean}')\n",
    "\n",
    "print(f'The estimated variance of W is: {emp_var}')"
   ]
  },
  {
   "cell_type": "markdown",
   "metadata": {},
   "source": [
    "## Problem 2 (10 pt)\n",
    "\n",
    "Consider the gambler's ruin problem where you start with an initial capital of $0 < x_0 < 20$ dollars and end the game if your wealth is zero (you go bankrupt), or you get to 20 dollars. Let us assume that the probability of winning any round is $$p=18/37.$$ (European casino with '0' but no '00' slot). "
   ]
  },
  {
   "cell_type": "markdown",
   "metadata": {},
   "source": [
    "a) <font color=\"red\">__(2 Points)__</font> Write a function __lengthOfGame__ which simulates a trajectory of your cumulative capital and returns the **number of rounds the game lasts** (until you're ruined or have \\$20). The function should use __x0__ (which is an integer) as a parameter. *Note:* you should use a while-loop since there is no a priori upper bound on how long you might play."
   ]
  },
  {
   "cell_type": "markdown",
   "metadata": {},
   "source": [
    "**Student's note**: Assuming that the stakes are $1 since it is not explicitly stated above."
   ]
  },
  {
   "cell_type": "code",
   "execution_count": 50,
   "metadata": {},
   "outputs": [
    {
     "data": {
      "text/plain": [
       "36"
      ]
     },
     "execution_count": 50,
     "metadata": {},
     "output_type": "execute_result"
    }
   ],
   "source": [
    "# WRITE YOUR OWN CODE HERE\n",
    "def lengthOfGame(x0):\n",
    "    # Variable to count rounds\n",
    "    n_rounds = 0\n",
    "\n",
    "    # Keep going while not in ruin or in winning state\n",
    "    while 0 < x0 < 20:\n",
    "        n_rounds += 1\n",
    "\n",
    "        # Sample round\n",
    "        x0 = np.random.choice([x0 + 1, x0 - 1], p = [18/37, 19/37])\n",
    "\n",
    "    return n_rounds\n"
   ]
  },
  {
   "cell_type": "markdown",
   "metadata": {},
   "source": [
    "b) <font color=\"red\">__(1 Point)__</font> Write a function __visitsToSeven__ which simulates a trajectory of your cumulative capital and returns the number of times until the game ended that you had exactly seven dollars (the Markov chain visited state '7'). The function should again use x0 as an input parameter."
   ]
  },
  {
   "cell_type": "code",
   "execution_count": 91,
   "metadata": {},
   "outputs": [
    {
     "data": {
      "text/plain": [
       "10"
      ]
     },
     "execution_count": 91,
     "metadata": {},
     "output_type": "execute_result"
    }
   ],
   "source": [
    "# WRITE YOUR OWN CODE HERE\n",
    "def visitsToSeven(x0):\n",
    "    # Variable to count times at 7\n",
    "    visits = 0\n",
    "\n",
    "    # Keep going while not in ruin or in winning state\n",
    "    while 0 < x0 < 20:\n",
    "\n",
    "        # Add to counter if x0 is equal to 7\n",
    "        if x0 == 7:\n",
    "            visits += 1\n",
    "\n",
    "        # Sample round\n",
    "        x0 = np.random.choice([x0 + 1, x0 - 1], p = [18/37, 19/37])\n",
    "\n",
    "    return visits\n",
    "\n",
    "visitsToSeven(5)"
   ]
  },
  {
   "cell_type": "markdown",
   "metadata": {},
   "source": [
    "c) <font color=\"red\">__(7 Points)__</font> Use your functions from parts (a) and (b) and at least 1000 simulations, to find (by trial-and-error, show your experiments!) the initial state *x0* that (i) maximizes lengthOfGame; (ii) maximizes visitsToSeven. Print out the respective values of x0 and the corresponding estimate of average length of playing and average number of visits to '7'. Create a plot for these outputs as a function of $$x_0=1,2,\\ldots,19.$$"
   ]
  },
  {
   "cell_type": "code",
   "execution_count": 124,
   "metadata": {},
   "outputs": [],
   "source": [
    "# Initialize np arrays to store the mean rounds of both game length and visits to seven.\n",
    "# The index of the array indicates the starting capital of the experiment\n",
    "game_length_mean = np.zeros(20)\n",
    "visits_to_7_mean = np.zeros(20)\n",
    "\n",
    "# Initialize np arrays to store the individual simulations\n",
    "game_length = np.empty(1000)\n",
    "visits_to_7 = np.empty(1000)\n",
    "\n",
    "# Iterate over x_0 = 1, 2, ..., 19\n",
    "for capital in range(1, 20):\n",
    "\n",
    "    # Iterate over 1000 simulations for each x_0 value\n",
    "    for m in range(1000):\n",
    "        game_length[m] = lengthOfGame(capital)\n",
    "        visits_to_7[m] = visitsToSeven(capital)\n",
    "\n",
    "    # Calculate the mean for both simulations over each x_0 value\n",
    "    game_length_mean[capital] = np.mean(game_length)\n",
    "    visits_to_7_mean[capital] = np.mean(visits_to_7)"
   ]
  },
  {
   "cell_type": "code",
   "execution_count": 135,
   "metadata": {},
   "outputs": [
    {
     "data": {
      "text/plain": [
       "Text(0, 0.5, 'Average Length in Rounds')"
      ]
     },
     "execution_count": 135,
     "metadata": {},
     "output_type": "execute_result"
    },
    {
     "data": {
      "image/png": "[encoded data removed]",
      "text/plain": [
       "<Figure size 640x480 with 1 Axes>"
      ]
     },
     "metadata": {},
     "output_type": "display_data"
    }
   ],
   "source": [
    "# Plot average game length as a function of x_0\n",
    "plt.plot(range(1, 20), game_length_mean[1:], marker = 'o')\n",
    "plt.title(\"Average Game Length vs Starting Capital\")\n",
    "plt.xticks(ticks=range(0, 21, 5))  # Set x-axis ticks every 5 units\n",
    "plt.xlabel(\"Initial Capital X_0\")\n",
    "plt.ylabel(\"Average Length in Rounds\")"
   ]
  },
  {
   "cell_type": "code",
   "execution_count": 136,
   "metadata": {},
   "outputs": [
    {
     "data": {
      "text/plain": [
       "Text(0, 0.5, 'Average Number of Rounds')"
      ]
     },
     "execution_count": 136,
     "metadata": {},
     "output_type": "execute_result"
    },
    {
     "data": {
      "image/png": "[encoded data removed]",
      "text/plain": [
       "<Figure size 640x480 with 1 Axes>"
      ]
     },
     "metadata": {},
     "output_type": "display_data"
    }
   ],
   "source": [
    "# Plot average amount of rounds that visit 7 as a function of x_0\n",
    "plt.plot(range(1, 20), visits_to_7_mean[1:], marker = 'o')\n",
    "plt.title(\"Average Number of Rounds Visited 7 vs Starting Capital\")\n",
    "plt.xticks(ticks=range(0, 21, 5))  # Set x-axis ticks every 5 units\n",
    "plt.xlabel(\"Initial Capital X_0\")\n",
    "plt.ylabel(\"Average Number of Rounds\")"
   ]
  },
  {
   "cell_type": "code",
   "execution_count": 127,
   "metadata": {},
   "outputs": [],
   "source": [
    "# Find which x0 value gave the max game length and max visits to 7\n",
    "x0_max_game = np.argmax(game_length_mean)\n",
    "x0_max_visits_to_7 = np.argmax(visits_to_7_mean)"
   ]
  },
  {
   "cell_type": "code",
   "execution_count": 129,
   "metadata": {},
   "outputs": [
    {
     "name": "stdout",
     "output_type": "stream",
     "text": [
      "The initial capital that maximizes the length of playing is: 11\n",
      "The corresponding expected number of rounds for the game to last is: 101.066\n",
      "The initial capital that maximizes number of times you have 7 dollars is: 7\n",
      "The corresponding expected number of visits to state 7 is: 9.331\n"
     ]
    }
   ],
   "source": [
    "# WRITE YOUR OWN CODE HERE\n",
    "print(f'The initial capital that maximizes the length of playing is: {x0_max_game}')\n",
    "print(f'The corresponding expected number of rounds for the game to last is: {game_length_mean[x0_max_game]}')\n",
    "\n",
    "# WRITE YOUR OWN CODE HERE\n",
    "print(f'The initial capital that maximizes number of times you have 7 dollars is: {x0_max_visits_to_7}')\n",
    "print(f'The corresponding expected number of visits to state 7 is: {visits_to_7_mean[x0_max_visits_to_7]}')\n"
   ]
  }
 ],
 "metadata": {
  "anaconda-cloud": {},
  "kernelspec": {
   "display_name": "Python 3 (ipykernel)",
   "language": "python",
   "name": "python3"
  },
  "language_info": {
   "codemirror_mode": {
    "name": "ipython",
    "version": 3
   },
   "file_extension": ".py",
   "mimetype": "text/x-python",
   "name": "python",
   "nbconvert_exporter": "python",
   "pygments_lexer": "ipython3",
   "version": "3.12.7"
  }
 },
 "nbformat": 4,
 "nbformat_minor": 4
}
