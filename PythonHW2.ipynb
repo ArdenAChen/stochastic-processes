{
 "cells": [
  {
   "cell_type": "markdown",
   "metadata": {},
   "source": [
    "## PSTAT 160A Summer 2025 Python Homework 2\n",
    "\n",
    "**Release date:** Tuesday, July 1st <br>\n",
    "**Due date:** Wednesday, July 8, 11959 p.m. via Gradescope\n",
    "\n",
    "**Instructions:** Please upload your IPYNB file on Gradescope with filename \"PythonHW2_YOURPERMNUMBER\".\n"
   ]
  },
  {
   "cell_type": "markdown",
   "metadata": {},
   "source": [
    "## Problem 1 (10 pts total)\n",
    "__Background__:\n",
    "A stochastic model for a car insurance company's total cost of damages from traffic accidents goes back to the work by Van der Lann and Louter, \"A statistical model for the costs of passenger car traffic accidents\", Journal of the Royal Statistical Society (1986).\n",
    "\n",
    "For every $k=1,2,3\\ldots$ we denote by the random variable $X_k$ the US dollar amount of a damage from a policy holder's traffic accident which will occur during the year 2025.\n",
    "\n",
    "We assume that $X_1$, $X_2$,... is an i.i.d. sequence of exponential distributed random variables with an average claim size of \\$1,500 USD.  \n",
    "\n",
    "The (random) total number of accidents $N$ in 2025 is expected to be Poisson distributed with 20 claims on average.\n",
    "\n",
    "It is assumed that the number of accidents is independent of the US dollar amount of damages for each accident. That is, the random variable $N$ is independent of the random variables $X_1$, $X_2$,...\n",
    "\n",
    "The total costs for the insurance company by the end of 2025 will thus be given by the __random sum__ $S_N$ defined as\n",
    "\n",
    "$$S_N = X_1 + X_2 + \\dots + X_N = \\sum_{k = 1}^{N} X_k.$$\n",
    "\n",
    "Note again that the total number $N$ of accidents is *random*."
   ]
  },
  {
   "cell_type": "markdown",
   "metadata": {},
   "source": [
    "The goal of the current exercise is to approximate the expected total costs $$\\mathbb{E}[S_N]$$ for the insurance company in 2025 via simulations."
   ]
  },
  {
   "cell_type": "markdown",
   "metadata": {},
   "source": [
    "As usual, we start with loading some packages:"
   ]
  },
  {
   "cell_type": "code",
   "execution_count": 1,
   "metadata": {},
   "outputs": [],
   "source": [
    "import numpy as np\n",
    "import random"
   ]
  },
  {
   "cell_type": "markdown",
   "metadata": {},
   "source": [
    "### Step 1: (5 Points)\n",
    "\n",
    "Write a function called <tt>randomSum(...)</tt> which simulates the random variable $S_N$. \n",
    "\n",
    "Input:\n",
    "* <tt>averageClaimSize</tt>: Average USD amount per claim\n",
    "* <tt>averageNumberOfClaims</tt>: Average number of claims/accidents in 2023\n",
    "\n",
    "Output:\n",
    "* <tt>sampleRandomSum</tt>: A single scalar being one sample from the random variable $S_N$\n",
    "\n",
    "<i>Hint:</i> Use build-in functions from the <i>NumPy</i>-package in your code in order to sample from a Poisson distribution and from an exponential distribution."
   ]
  },
  {
   "cell_type": "code",
   "execution_count": 205,
   "metadata": {},
   "outputs": [],
   "source": [
    "def randomSum(averageClaimSize, averageNumberOfClaims): \n",
    "    \n",
    "    # First, we sample random variable N\n",
    "    N = np.random.poisson(averageNumberOfClaims) # Since N is poisson, the E[N] = the parameter lambda\n",
    "\n",
    "    # Run rv X_i N times, sum up all results\n",
    "    if N == 0:\n",
    "        return 0 # if N is 0 then just return 0 since there can be no costs without a claim\n",
    "    else:\n",
    "        # sample N amount of X_i variables, each exponential with parameter averageClaimSize since E[X_i] = 1500\n",
    "        sampleRandomSum = np.sum(np.random.exponential(averageClaimSize, size = N))\n",
    "        return sampleRandomSum"
   ]
  },
  {
   "cell_type": "code",
   "execution_count": 206,
   "metadata": {},
   "outputs": [
    {
     "data": {
      "text/plain": [
       "18096.89488036447"
      ]
     },
     "execution_count": 206,
     "metadata": {},
     "output_type": "execute_result"
    }
   ],
   "source": [
    "randomSum(1500, 20)"
   ]
  },
  {
   "cell_type": "markdown",
   "metadata": {},
   "source": [
    "### Step 2: (3 Points)\n",
    "\n",
    "Write a simulator function called <tt>simulator()</tt> which uses the function <tt>randomSum()</tt> from Step 1 to simulate $M \\in \\mathbb{N}$ samples from the random variable $S_N$. \n",
    "\n",
    "Input: \n",
    "* <tt>averageClaimSize</tt>: Average USD amount per claim\n",
    "* <tt>averageNumberOfClaims</tt>: Average number of claims/accidents in 2025\n",
    "* <tt>M</tt>: Number of Simulations\n",
    "\n",
    "Output:\n",
    "* <tt>samples</tt>: An array of length $M$ with samples from the random variable $S_N$.\n",
    "\n",
    "Run your function on the problem setting to get 16 samples of $S_N$"
   ]
  },
  {
   "cell_type": "code",
   "execution_count": 208,
   "metadata": {},
   "outputs": [],
   "source": [
    "def simulator(averageClaimSize, averageNumberOfClaims, M):\n",
    "    # Create a np array to store M samples\n",
    "    samples = np.zeros(M) \n",
    "\n",
    "    # For loop sampling S_n M times and storing S_n to the np array\n",
    "    for _ in range(M):\n",
    "        samples[_] = randomSum(averageClaimSize, averageNumberOfClaims)\n",
    "        \n",
    "    return samples"
   ]
  },
  {
   "cell_type": "code",
   "execution_count": 207,
   "metadata": {},
   "outputs": [
    {
     "data": {
      "text/plain": [
       "array([45181.410351  , 27923.01608007, 39930.90486545, 44074.93028374,\n",
       "       23787.21383549, 17600.19933994, 28388.54668995, 17910.37096472,\n",
       "       20196.06456725, 37968.67899154, 30754.46885974, 27041.3606316 ,\n",
       "       20773.93868585, 34872.26183421, 29594.50583371, 33658.06195706])"
      ]
     },
     "execution_count": 207,
     "metadata": {},
     "output_type": "execute_result"
    }
   ],
   "source": [
    "np.random.seed(160)\n",
    "# Generate 16 samples of S_N\n",
    "simulator(1500, 20, 16)"
   ]
  },
  {
   "cell_type": "markdown",
   "metadata": {},
   "source": [
    "### Step 3: (2 Points)\n",
    "\n",
    "As we have shown in class, it holds via __Wald's Identity__ that the expectation of the random sum $S_N$ is given by the formula\n",
    "\n",
    "\\begin{equation}\n",
    "\\mathbb{E}[S_N] = \\mathbb{E}[N] \\cdot \\mathbb{E}[X_1] = 20 \\cdot \\$1,500 = \\$30,000.\n",
    "\\end{equation}\n",
    "\n",
    "Check via the empirical mean that\n",
    "\n",
    "$$\\frac{1}{M} \\sum_{m=1}^M s^{(m)}_N \\approx \\mathbb{E}[S_N] = \\$30,000$$\n",
    "\n",
    "where $s^{(1)}_N, s^{(2)}_N, \\ldots, s^{(M)}_N$ denote $M$ independent realizations (samples) from the random variable $S_N$. \n",
    "\n",
    "Use $M = 10, 100, 1000, 10000, 50000$ simulations. Discuss in 2-3 sentences what you see as $M$ gets larger. "
   ]
  },
  {
   "cell_type": "markdown",
   "metadata": {},
   "source": [
    "That is, write a function <tt>MCsimulation(...)</tt> which uses the function <tt>simulator(...)</tt> from Step 2 to compute the empirical mean. \n",
    "\n",
    "\n",
    "Input: \n",
    "* <tt>averageClaimSize</tt>: Average USD amount per claim\n",
    "* <tt>averageNumberOfClaims</tt>: Average number of claims/accidents in 2025\n",
    "* <tt>M</tt>: Number of Simulations\n",
    "\n",
    "Output:\n",
    "* <tt>empiricalMean</tt>: A real number in $\\mathbb{R}_+$."
   ]
  },
  {
   "cell_type": "code",
   "execution_count": 220,
   "metadata": {},
   "outputs": [],
   "source": [
    "def MCsimulation(averageClaimSize, averageNumberOfClaims, M): # 2 points\n",
    "\n",
    "    # We can sum up all the S_n values in the simulator function's np array then divide by M to get the empirical mean\n",
    "    empiricalMean = np.sum(simulator(averageClaimSize, averageNumberOfClaims, M))/M\n",
    "    return empiricalMean"
   ]
  },
  {
   "cell_type": "code",
   "execution_count": 227,
   "metadata": {},
   "outputs": [
    {
     "name": "stdout",
     "output_type": "stream",
     "text": [
      "M value: 10, Empirical Mean: 34511.93274698648\n",
      "M value: 100, Empirical Mean: 28807.85547210798\n",
      "M value: 1000, Empirical Mean: 30201.83750856256\n",
      "M value: 10000, Empirical Mean: 30083.661825123745\n",
      "M value: 50000, Empirical Mean: 30013.812311282996\n"
     ]
    }
   ],
   "source": [
    "# M values we are testing for\n",
    "M_values = [10, 100, 1000, 10000, 50000]\n",
    "\n",
    "np.random.seed(159)\n",
    "for M_val in M_values:\n",
    "    print(f'M value: {M_val}, Empirical Mean: {MCsimulation(1500, 20, M_val)}')"
   ]
  },
  {
   "cell_type": "markdown",
   "metadata": {},
   "source": [
    "Comment:\n",
    "**It appears that as M increases, the empirical mean approaches the true theoretical mean. This is expected to happen in Monte Carlo Simulations as simulations with more samples will tend toward the actual mean.**"
   ]
  },
  {
   "cell_type": "markdown",
   "metadata": {},
   "source": [
    "## Problem 2 (10 Points)\n",
    "\n",
    "A health insurance will pay for a medical expense subject to a USD 40 deductible and a maximum cap (for the payout, post deductible) of \\\\$200 dollars. Assume that the amount of the expense is __Gamma__ distributed with scale parameter 50 and shape parameter 2 (the mean is 50*2 dollars). This can be simulated using _np.random.gamma_(shape, scale, n)\n",
    "\n",
    "Part 1) Compute the empirical _mean_ and empirical _standard deviation_ of the payout by the insurance company for one insured by using 100,000 samples."
   ]
  },
  {
   "cell_type": "code",
   "execution_count": 232,
   "metadata": {},
   "outputs": [
    {
     "name": "stdout",
     "output_type": "stream",
     "text": [
      "Mean: 60.00766602589859\n",
      "Standard Deviation: 58.96834253952477\n"
     ]
    }
   ],
   "source": [
    "np.random.seed(160)\n",
    "\n",
    "# Generate 100,000 gamma distributions with given parameters\n",
    "expenses = np.random.gamma(2, 50, 100000)\n",
    "\n",
    "# The total the insurance has to pay will be between 0 and 200 dollars. If expenses is less than or equal to 40 dollars, pay 0\n",
    "# Otherwise, pay the minimum between expenses minus deductible (expenses - $40) and the post deductible ($200)\n",
    "payouts = np.maximum(0, np.minimum(expenses - 40, 200))\n",
    "\n",
    "mean = np.mean(payouts)\n",
    "std = np.std(payouts)\n",
    "\n",
    "print('Mean:', mean)\n",
    "print('Standard Deviation:', std)        "
   ]
  },
  {
   "cell_type": "markdown",
   "metadata": {},
   "source": [
    "Part 2) Suppose the insurance company has 800 customers. Above you computed the mean and standard deviation for one individual customer. Assuming that payments for different customers are independent, create a function **insuranceSum** to simulate the total payout for 800 customers, $S_n$ for $n=800$. "
   ]
  },
  {
   "cell_type": "code",
   "execution_count": 276,
   "metadata": {},
   "outputs": [],
   "source": [
    "def insuranceSum():\n",
    "    # Calculate expenses like in Part 1\n",
    "    expenses = np.random.gamma(2, 50, 800)\n",
    "\n",
    "    # Calculate payouts like in Part 1\n",
    "    payouts = np.maximum(0, np.minimum(expenses - 40, 200))\n",
    "\n",
    "    # Sum up all customer payouts\n",
    "    payoutSum = np.sum(payouts)\n",
    "    \n",
    "    return payoutSum"
   ]
  },
  {
   "cell_type": "code",
   "execution_count": 287,
   "metadata": {},
   "outputs": [
    {
     "data": {
      "text/plain": [
       "48168.88449074875"
      ]
     },
     "execution_count": 287,
     "metadata": {},
     "output_type": "execute_result"
    }
   ],
   "source": [
    "insuranceSum()"
   ]
  },
  {
   "cell_type": "markdown",
   "metadata": {},
   "source": [
    "Part 3) We wish to estimate the probability that total payout would be between \\\\$50,000 and \\\\$52,000 dollars.\n",
    "<br>Recall from class that the desired probabilitiy $\\mathbb{P}(S_{n} \\in [K_1, K_2])$ for $K_1 = \\$50,000,\\text{ and } K_2=\\$52,000$ can be computed as expectation via an indicator function\n",
    "\n",
    "$$ \\mathbb{P}(S_n  \\in [K_1, K_2]) = \\mathbb{E}[1_{\\{S_n \\in [K_1, K_2]\\}}]$$\n",
    "\n",
    "Thus, we use once more the empirical mean to approximate\n",
    "\n",
    "$$ \\mathbb{E}[1_{\\{S_n \\in [K_1, K_2]\\}}] \\approx \\frac{1}{M} \\sum_{m=1}^M 1_{\\{s^{(m)}_n \\in [K_1, K_2] \\}}$$\n",
    "\n",
    "with $M$ independent realizations (samples) from the random variable $S_N$ (again denoted by $s^{(1)}_N, s^{(2)}_N, \\ldots, s^{(M)}_N$). Now call your **insuranceSum** function 1000 times to estimate the probability that total payout would be between \\\\$50,000 and \\\\$52,000 dollars. Compare to the theoretical probability based on Central Limit Theorem. "
   ]
  },
  {
   "cell_type": "code",
   "execution_count": 303,
   "metadata": {},
   "outputs": [
    {
     "data": {
      "text/plain": [
       "0.117"
      ]
     },
     "execution_count": 303,
     "metadata": {},
     "output_type": "execute_result"
    }
   ],
   "source": [
    "# Using the empirical mean to approximate the indicator function\n",
    "np.random.seed(160)\n",
    "\n",
    "# Create an array to store payout sum values\n",
    "payoutSamples = np.zeros(1000)\n",
    "\n",
    "# Simulate insuranceSum() 1000 times, store sum values\n",
    "for _ in range(1000):\n",
    "    payoutSamples[_] = insuranceSum()\n",
    "\n",
    "# Count the amount of values in payoutSamples between 50,000 and 52,000 inclusive like an indicator variable\n",
    "count = np.sum((payoutSamples >= 50000) & (payoutSamples <= 52000))\n",
    "\n",
    "# Proportion calculated by dividing the amount of payouts between 50k and 52k by 1000\n",
    "proportion = count / 1000\n",
    "proportion"
   ]
  },
  {
   "cell_type": "code",
   "execution_count": 309,
   "metadata": {},
   "outputs": [
    {
     "data": {
      "text/plain": [
       "0.10763548737701278"
      ]
     },
     "execution_count": 309,
     "metadata": {},
     "output_type": "execute_result"
    }
   ],
   "source": [
    "# Use Central Limit Theorem to approximate theoretical probability of the experiment\n",
    "np.random.seed(160)\n",
    "\n",
    "from scipy.stats import norm # import normal distribution for cdf\n",
    "\n",
    "# Get sample like in Part 1, with n = 100000\n",
    "expenses = np.random.gamma(2, 50, 100000)\n",
    "payouts = np.maximum(0, np.minimum(expenses - 40, 200))\n",
    "\n",
    "# Calculate the sample mean and standard deviation of individuals\n",
    "mean = np.mean(payouts)\n",
    "std = np.std(payouts)\n",
    "\n",
    "# Calculate the mean and standard deviation for the sum of 800 customers based on sample mean and sample standard deviation\n",
    "sample_mean = 800*mean\n",
    "sample_std = np.sqrt(800)*std\n",
    "\n",
    "# Calculate z score values for bounds K1 = 50,000 and K2 = 52,000 using sample mean and sample standard deviation\n",
    "z1 = (50000 - sample_mean) / sample_std\n",
    "z2 = (52000 - sample_mean) / sample_std\n",
    "\n",
    "# Use normal approximation to approximate the theoretical probability\n",
    "theoretical_probability = norm.cdf(z2) - norm.cdf(z1)\n",
    "theoretical_probability"
   ]
  },
  {
   "cell_type": "markdown",
   "metadata": {},
   "source": [
    "After using the empirical mean to approximate the indicator function and using the central limit theorem to approximate the theoretical probability of the experiment, I find that the estimates are pretty close to each other, only differing by .4%."
   ]
  }
 ],
 "metadata": {
  "kernelspec": {
   "display_name": "Python 3 (ipykernel)",
   "language": "python",
   "name": "python3"
  },
  "language_info": {
   "codemirror_mode": {
    "name": "ipython",
    "version": 3
   },
   "file_extension": ".py",
   "mimetype": "text/x-python",
   "name": "python",
   "nbconvert_exporter": "python",
   "pygments_lexer": "ipython3",
   "version": "3.12.7"
  }
 },
 "nbformat": 4,
 "nbformat_minor": 4
}
