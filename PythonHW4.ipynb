{
 "cells": [
  {
   "cell_type": "markdown",
   "metadata": {},
   "source": [
    "# Python Homework 4\n",
    "\n",
    "**Release date:** Thursday, July 17th <br>\n",
    "**Due date:** Wednesday, __July 23rd__, 11:59 p.m. via Gradescope\n",
    "\n",
    "**Instruction:** Please upload your ipynb file on Gradescope with filename \"PythonHW4_YOURPERMNUMBER\"."
   ]
  },
  {
   "cell_type": "markdown",
   "metadata": {},
   "source": [
    "__Background:__ Markov chains could be used to model a plethora of phenomena that happen in our world. The only assumption that we would have to accept is the fact that what we are trying to model depends only on the last step, and not on all previous steps (the whole history). \n",
    "\n",
    "For example, Sahin and Sen (2001) model hourly wind speeds in a NW part of Turkey as a Markov chain ${(X_n)}_{n\\in \\mathbb{N}}$ with 7 states representing different wind speed levels. Since in Python arrays are indexed starting from $0$, let us consider the states to be $S=\\{0,1,2,3,4,5,6 \\}$, with $0$ representing the lowest wind speed level. The transition matrix is given by: \n",
    "\n",
    "\\begin{gather*}\n",
    "P=\\begin{array}{cccccccc}\n",
    "& 0 & 1 & 2 & 3 & 4 & 5 & 6 \\\\\n",
    "0 & 0.756 & 0.113 & 0.129 & 0.002 & 0 & 0 & 0\\\\\n",
    "1 & 0.174 & 0.721 & 0.064 & 0.041 & 0 & 0 & 0\\\\\n",
    "2 & 0.141 & 0.001 & 0.776 & 0.082 & 0 & 0 & 0\\\\\n",
    "3 & 0.003 & 0 & 0.192 & 0.753 & 0.052 & 0 & 0\\\\\n",
    "4 & 0 & 0 & 0.002 & 0.227 & 0.735 & 0.036 & 0\\\\\n",
    "5 & 0 & 0 & 0 & 0.007 & 0.367 & 0.604 & 0.022\\\\\n",
    "6 & 0 & 0 & 0 & 0 & 0.053 & 0.158 & 0.789\\\\\n",
    "\\end{array}\n",
    "\\end{gather*}"
   ]
  },
  {
   "cell_type": "markdown",
   "metadata": {},
   "source": [
    "As usual, we start with loading base packages:"
   ]
  },
  {
   "cell_type": "code",
   "execution_count": 1,
   "metadata": {},
   "outputs": [],
   "source": [
    "import numpy as np \n",
    "import pandas as pd\n",
    "from numpy import linalg \n",
    "import scipy.linalg\n",
    "import matplotlib.pyplot as plt"
   ]
  },
  {
   "cell_type": "markdown",
   "metadata": {},
   "source": [
    "### Part a (4 Points)\n",
    "\n",
    "Implement the transition probability matrix $P$ from above as a two dimensional <tt>numpy.array()</tt>. "
   ]
  },
  {
   "cell_type": "code",
   "execution_count": 2,
   "metadata": {},
   "outputs": [],
   "source": [
    "# Initiate the transition matrix P\n",
    "P = np.array([[0.756, 0.113, 0.129, 0.002, 0.000, 0.000, 0.000],\n",
    "              [0.174, 0.721, 0.064, 0.041, 0.000, 0.000, 0.000],\n",
    "              [0.141, 0.001, 0.776, 0.082, 0.000, 0.000, 0.000],\n",
    "              [0.003, 0.000, 0.192, 0.753, 0.052, 0.000, 0.000],\n",
    "              [0.000, 0.000, 0.002, 0.227, 0.735, 0.036, 0.000],\n",
    "              [0.000, 0.000, 0.000, 0.007, 0.367, 0.604, 0.022],\n",
    "              [0.000, 0.000, 0.000, 0.000, 0.053, 0.158, 0.789]])\n"
   ]
  },
  {
   "cell_type": "markdown",
   "metadata": {},
   "source": [
    "Assume that the wind speed in State $i$ is $5 \\cdot i$ Miles/hr. So there is no wind in state 0 and 30 M/hr wind in state 6. Given that there is no wind today, find the **expected wind speed** in (i) 3 days' time; (ii) 1 week's time. Be sure to print out any powers of the matrix P that you use to answer the question."
   ]
  },
  {
   "cell_type": "code",
   "execution_count": 3,
   "metadata": {},
   "outputs": [
    {
     "data": {
      "text/html": [
       "<div>\n",
       "<style scoped>\n",
       "    .dataframe tbody tr th:only-of-type {\n",
       "        vertical-align: middle;\n",
       "    }\n",
       "\n",
       "    .dataframe tbody tr th {\n",
       "        vertical-align: top;\n",
       "    }\n",
       "\n",
       "    .dataframe thead th {\n",
       "        text-align: right;\n",
       "    }\n",
       "</style>\n",
       "<table border=\"1\" class=\"dataframe\">\n",
       "  <thead>\n",
       "    <tr style=\"text-align: right;\">\n",
       "      <th></th>\n",
       "      <th>0</th>\n",
       "      <th>1</th>\n",
       "      <th>2</th>\n",
       "      <th>3</th>\n",
       "      <th>4</th>\n",
       "      <th>5</th>\n",
       "      <th>6</th>\n",
       "    </tr>\n",
       "  </thead>\n",
       "  <tbody>\n",
       "    <tr>\n",
       "      <th>0</th>\n",
       "      <td>0.518758</td>\n",
       "      <td>1.894953e-01</td>\n",
       "      <td>0.252071</td>\n",
       "      <td>0.038647</td>\n",
       "      <td>0.001024</td>\n",
       "      <td>0.000004</td>\n",
       "      <td>0.000000</td>\n",
       "    </tr>\n",
       "    <tr>\n",
       "      <th>1</th>\n",
       "      <td>0.313072</td>\n",
       "      <td>4.192283e-01</td>\n",
       "      <td>0.179421</td>\n",
       "      <td>0.083201</td>\n",
       "      <td>0.005001</td>\n",
       "      <td>0.000077</td>\n",
       "      <td>0.000000</td>\n",
       "    </tr>\n",
       "    <tr>\n",
       "      <th>2</th>\n",
       "      <td>0.256733</td>\n",
       "      <td>3.766002e-02</td>\n",
       "      <td>0.546849</td>\n",
       "      <td>0.148934</td>\n",
       "      <td>0.009670</td>\n",
       "      <td>0.000154</td>\n",
       "      <td>0.000000</td>\n",
       "    </tr>\n",
       "    <tr>\n",
       "      <th>3</th>\n",
       "      <td>0.067227</td>\n",
       "      <td>4.247597e-03</td>\n",
       "      <td>0.346611</td>\n",
       "      <td>0.489481</td>\n",
       "      <td>0.088476</td>\n",
       "      <td>0.003916</td>\n",
       "      <td>0.000041</td>\n",
       "    </tr>\n",
       "    <tr>\n",
       "      <th>4</th>\n",
       "      <td>0.008314</td>\n",
       "      <td>1.568670e-04</td>\n",
       "      <td>0.102354</td>\n",
       "      <td>0.387129</td>\n",
       "      <td>0.450771</td>\n",
       "      <td>0.049589</td>\n",
       "      <td>0.001685</td>\n",
       "    </tr>\n",
       "    <tr>\n",
       "      <th>5</th>\n",
       "      <td>0.000587</td>\n",
       "      <td>4.451000e-06</td>\n",
       "      <td>0.020420</td>\n",
       "      <td>0.184623</td>\n",
       "      <td>0.508775</td>\n",
       "      <td>0.253016</td>\n",
       "      <td>0.032573</td>\n",
       "    </tr>\n",
       "    <tr>\n",
       "      <th>6</th>\n",
       "      <td>0.000054</td>\n",
       "      <td>1.060000e-07</td>\n",
       "      <td>0.002882</td>\n",
       "      <td>0.042953</td>\n",
       "      <td>0.217323</td>\n",
       "      <td>0.237992</td>\n",
       "      <td>0.498796</td>\n",
       "    </tr>\n",
       "  </tbody>\n",
       "</table>\n",
       "</div>"
      ],
      "text/plain": [
       "          0             1         2         3         4         5         6\n",
       "0  0.518758  1.894953e-01  0.252071  0.038647  0.001024  0.000004  0.000000\n",
       "1  0.313072  4.192283e-01  0.179421  0.083201  0.005001  0.000077  0.000000\n",
       "2  0.256733  3.766002e-02  0.546849  0.148934  0.009670  0.000154  0.000000\n",
       "3  0.067227  4.247597e-03  0.346611  0.489481  0.088476  0.003916  0.000041\n",
       "4  0.008314  1.568670e-04  0.102354  0.387129  0.450771  0.049589  0.001685\n",
       "5  0.000587  4.451000e-06  0.020420  0.184623  0.508775  0.253016  0.032573\n",
       "6  0.000054  1.060000e-07  0.002882  0.042953  0.217323  0.237992  0.498796"
      ]
     },
     "execution_count": 3,
     "metadata": {},
     "output_type": "execute_result"
    }
   ],
   "source": [
    "# Want to get from today to 3 days from now, so use 3 step transition matrix\n",
    "\n",
    "# Calculate 3-step transition matrix by taking the transition matrix to the 3rd power\n",
    "P_cubed = np.linalg.matrix_power(P, 3)\n",
    "\n",
    "# Save array as a DataFrame to make it easier to view\n",
    "df_P_cubed = pd.DataFrame(P_cubed)\n",
    "\n",
    "# Display transition matrix\n",
    "df_P_cubed"
   ]
  },
  {
   "cell_type": "code",
   "execution_count": 4,
   "metadata": {},
   "outputs": [
    {
     "data": {
      "text/html": [
       "<div>\n",
       "<style scoped>\n",
       "    .dataframe tbody tr th:only-of-type {\n",
       "        vertical-align: middle;\n",
       "    }\n",
       "\n",
       "    .dataframe tbody tr th {\n",
       "        vertical-align: top;\n",
       "    }\n",
       "\n",
       "    .dataframe thead th {\n",
       "        text-align: right;\n",
       "    }\n",
       "</style>\n",
       "<table border=\"1\" class=\"dataframe\">\n",
       "  <thead>\n",
       "    <tr style=\"text-align: right;\">\n",
       "      <th></th>\n",
       "      <th>0</th>\n",
       "      <th>1</th>\n",
       "      <th>2</th>\n",
       "      <th>3</th>\n",
       "      <th>4</th>\n",
       "      <th>5</th>\n",
       "      <th>6</th>\n",
       "    </tr>\n",
       "  </thead>\n",
       "  <tbody>\n",
       "    <tr>\n",
       "      <th>0</th>\n",
       "      <td>0.376650</td>\n",
       "      <td>0.180153</td>\n",
       "      <td>0.326155</td>\n",
       "      <td>0.105950</td>\n",
       "      <td>0.010647</td>\n",
       "      <td>0.000437</td>\n",
       "      <td>0.000008</td>\n",
       "    </tr>\n",
       "    <tr>\n",
       "      <th>1</th>\n",
       "      <td>0.343285</td>\n",
       "      <td>0.213925</td>\n",
       "      <td>0.300947</td>\n",
       "      <td>0.124483</td>\n",
       "      <td>0.016440</td>\n",
       "      <td>0.000894</td>\n",
       "      <td>0.000026</td>\n",
       "    </tr>\n",
       "    <tr>\n",
       "      <th>2</th>\n",
       "      <td>0.298448</td>\n",
       "      <td>0.095575</td>\n",
       "      <td>0.404858</td>\n",
       "      <td>0.173003</td>\n",
       "      <td>0.026504</td>\n",
       "      <td>0.001564</td>\n",
       "      <td>0.000048</td>\n",
       "    </tr>\n",
       "    <tr>\n",
       "      <th>3</th>\n",
       "      <td>0.180662</td>\n",
       "      <td>0.039724</td>\n",
       "      <td>0.385334</td>\n",
       "      <td>0.301205</td>\n",
       "      <td>0.084978</td>\n",
       "      <td>0.007686</td>\n",
       "      <td>0.000412</td>\n",
       "    </tr>\n",
       "    <tr>\n",
       "      <th>4</th>\n",
       "      <td>0.081876</td>\n",
       "      <td>0.012269</td>\n",
       "      <td>0.269239</td>\n",
       "      <td>0.373016</td>\n",
       "      <td>0.227977</td>\n",
       "      <td>0.032263</td>\n",
       "      <td>0.003360</td>\n",
       "    </tr>\n",
       "    <tr>\n",
       "      <th>5</th>\n",
       "      <td>0.036912</td>\n",
       "      <td>0.003917</td>\n",
       "      <td>0.171682</td>\n",
       "      <td>0.353215</td>\n",
       "      <td>0.335347</td>\n",
       "      <td>0.076772</td>\n",
       "      <td>0.022154</td>\n",
       "    </tr>\n",
       "    <tr>\n",
       "      <th>6</th>\n",
       "      <td>0.011175</td>\n",
       "      <td>0.000924</td>\n",
       "      <td>0.069168</td>\n",
       "      <td>0.208972</td>\n",
       "      <td>0.335676</td>\n",
       "      <td>0.167201</td>\n",
       "      <td>0.206885</td>\n",
       "    </tr>\n",
       "  </tbody>\n",
       "</table>\n",
       "</div>"
      ],
      "text/plain": [
       "          0         1         2         3         4         5         6\n",
       "0  0.376650  0.180153  0.326155  0.105950  0.010647  0.000437  0.000008\n",
       "1  0.343285  0.213925  0.300947  0.124483  0.016440  0.000894  0.000026\n",
       "2  0.298448  0.095575  0.404858  0.173003  0.026504  0.001564  0.000048\n",
       "3  0.180662  0.039724  0.385334  0.301205  0.084978  0.007686  0.000412\n",
       "4  0.081876  0.012269  0.269239  0.373016  0.227977  0.032263  0.003360\n",
       "5  0.036912  0.003917  0.171682  0.353215  0.335347  0.076772  0.022154\n",
       "6  0.011175  0.000924  0.069168  0.208972  0.335676  0.167201  0.206885"
      ]
     },
     "execution_count": 4,
     "metadata": {},
     "output_type": "execute_result"
    }
   ],
   "source": [
    "# Want to get from today to one week from now, so use 7 step transition matrix\n",
    "\n",
    "# Calculate 7-step transition matrix by taking the transition matrix to the 7th power\n",
    "P7 = np.linalg.matrix_power(P, 7)\n",
    "\n",
    "# Save array as a DataFrame to make it easier to view\n",
    "df_P7 = pd.DataFrame(P7)\n",
    "\n",
    "# Display transition matrix\n",
    "df_P7"
   ]
  },
  {
   "cell_type": "code",
   "execution_count": 5,
   "metadata": {},
   "outputs": [
    {
     "name": "stdout",
     "output_type": "stream",
     "text": [
      "The expected wind speed in 3 days is 0.8137 mph\n",
      "The expected wind speed in 1 week is 1.1951 mph\n"
     ]
    }
   ],
   "source": [
    "# To get expectation, take the sum of each element in row 0 (since assuming there's no wind today) multiplied by their value\n",
    "Expectation3 = np.sum(P_cubed[0] * np.arange(7)) # Calculation for expectation after 3 days\n",
    "ExpectationWeek = np.sum(P7[0] * np.arange(7)) # Calculation for expectation after one week\n",
    "\n",
    "print(\"The expected wind speed in 3 days is \" + str(round(Expectation3,4)) + \" mph\")                    \n",
    "print(\"The expected wind speed in 1 week is \" + str(round(ExpectationWeek,4)) + \" mph\")                    "
   ]
  },
  {
   "cell_type": "markdown",
   "metadata": {},
   "source": [
    "### Part b (4 Points)\n",
    "\n",
    "We fix $X_0 = 0$ (no wind today) and wish to compute $H_n := \\mathbb{P}(X_n > 4 | X_0 = 0)$ which is the probability that there will be strong wind (level 5 or level 6, over 25 MPH) $n$ days from now. Using a <tt>for</tt> loop, evaluate $H_n$ for $n=1,2,\\ldots,60$, i.e for 1,2, and up to 60 days into the future.\n",
    "\n",
    "Create a plot showing $H_n$ as a function of $n$. **Summarize in 3-4 sentences** what you observe as $n$ increases."
   ]
  },
  {
   "cell_type": "code",
   "execution_count": 6,
   "metadata": {},
   "outputs": [
    {
     "data": {
      "text/plain": [
       "<function matplotlib.pyplot.show(close=None, block=None)>"
      ]
     },
     "execution_count": 6,
     "metadata": {},
     "output_type": "execute_result"
    },
    {
     "data": {
      "image/png": "[encoded data removed]",
      "text/plain": [
       "<Figure size 640x480 with 1 Axes>"
      ]
     },
     "metadata": {},
     "output_type": "display_data"
    }
   ],
   "source": [
    "# Evaluate H_n for n = 1, 2,..., 60:\n",
    "# Create an empty list to store the probability values for each n value\n",
    "p_list = []\n",
    "\n",
    "# Iterates for n = 1 to n = 60\n",
    "for n in range(1, 61):\n",
    "    # Calculate the n-step matrix\n",
    "    P_n = np.linalg.matrix_power(P, n) \n",
    "\n",
    "    # Sum up values from row 0 that are greater than 4 (level 5 and 6)\n",
    "    p = np.sum(P_n[0, 5:7]) \n",
    "\n",
    "    # Append the probability value to p_list so that it can be plotted as y values\n",
    "    p_list.append(p)\n",
    "\n",
    "# WRITE CODE TO PLOT H_n as a function of n\n",
    "\n",
    "# Plot n as x-axis, p_list as y-axis. Dots at each n value\n",
    "plt.plot(range(1, 61), p_list, marker = 'o')\n",
    "plt.xlabel('n')\n",
    "plt.ylabel('Probability')\n",
    "plt.title('Probability of Strong Wind n Days from Today (given that there is no wind today)') # title of plot\n",
    "plt.show"
   ]
  },
  {
   "cell_type": "markdown",
   "metadata": {},
   "source": [
    "**Summary of Observations**:  At lower values of n, the probability of there being strong winds given that today there is no wind is relatively low compared to the other values as expected. However, $H_n$ seems to grow exponentially as n increases, before $H_n$ seems to converge towards a constant which is slightly above 0.004. The shape of the plot seems to follow an S-curve where the growth starts exponential before hitting some ceiling value, suggesting that the long term behavior of the wind speed converges for large n."
   ]
  },
  {
   "cell_type": "markdown",
   "metadata": {},
   "source": [
    "### Part c (4 pt)\n",
    "\n",
    "Let $W$ be the *first* day (i.e. step $n$) that there is NO wind.  Write a function **simulateFirstCalmDay** to do a Monte Carlo simulation of $W$. Starting with **$X_0 = 4$** today, run your function with $M=1000$ simulations to obtain a (i) histogram of $W$; (ii) estimate the expected value of $W$. "
   ]
  },
  {
   "cell_type": "code",
   "execution_count": 62,
   "metadata": {},
   "outputs": [
    {
     "data": {
      "text/plain": [
       "array([15., 33., 26., 42., 16.,  7., 15.,  7., 25., 13.,  6., 46., 13.,\n",
       "       12., 13., 46., 28., 15., 27., 26., 30., 21.,  7., 55., 73., 13.,\n",
       "       11., 23., 19., 16.,  9., 12.,  5., 12., 32., 16., 11., 19., 28.,\n",
       "       25., 36., 11., 21., 13.,  7., 10., 23., 10., 14., 17., 27., 13.,\n",
       "       59.,  8., 61., 13.,  9., 48.,  7.,  2., 16.,  3., 22., 13., 57.,\n",
       "       13., 18.,  5.,  5., 30.,  7.,  6.,  7., 13., 15., 45., 17., 30.,\n",
       "       33., 60., 34., 32., 36.,  6., 16., 10., 17., 22., 36., 29.,  7.,\n",
       "       17., 93., 18., 31., 33., 31., 84., 30., 39.,  5.,  4., 14., 45.,\n",
       "       32., 15., 24., 14., 18., 14., 23., 19., 19., 11., 35., 31., 37.,\n",
       "       31., 24., 17., 85.,  7., 17.,  9., 15., 12., 30., 22., 16.,  9.,\n",
       "       19., 11., 14., 14., 10.,  6., 18., 14., 21., 12., 29.,  3., 20.,\n",
       "       17., 20., 11., 28.,  5., 16.,  9., 22., 31., 32., 29., 37., 33.,\n",
       "       42.,  9., 32.,  6., 32.,  4., 13.,  8., 54., 28., 18.,  9., 34.,\n",
       "       24., 19., 27., 43., 22., 22., 16., 25., 16., 31.,  9., 19.,  8.,\n",
       "       12., 10., 45.,  4., 25., 11., 16., 23., 12., 18., 16., 55., 59.,\n",
       "       18., 48., 43.,  4., 17., 10., 22., 13., 11., 20.,  5.,  5.,  6.,\n",
       "       53.,  7., 19., 11.,  9., 27., 34., 31.,  4.,  9., 13., 15., 20.,\n",
       "        8., 42.,  7., 33., 38.,  8., 31., 10., 18.,  8., 15., 46.,  8.,\n",
       "       16., 53., 30., 11.,  5., 11., 24., 18., 19.,  9., 39., 28., 12.,\n",
       "        6., 37., 21., 14.,  5., 11., 16., 19., 10., 32., 21., 11., 30.,\n",
       "       61., 13., 41., 10., 20., 40., 15., 23., 21., 80.,  4., 38., 14.,\n",
       "       12., 11., 33., 31., 13., 27., 11., 12., 14., 69., 26., 37., 11.,\n",
       "       10., 32.,  9., 44., 10., 33., 11., 36., 17., 12., 39., 53., 28.,\n",
       "       15., 10., 25., 15., 24., 13., 20.,  8.,  5., 22., 45., 25.,  8.,\n",
       "       23.,  9., 42.,  9., 12., 16.,  8.,  7., 27., 11., 14.,  7., 21.,\n",
       "       11., 17., 13.,  9., 22., 14., 22., 11., 10., 10., 10.,  8., 16.,\n",
       "       12., 10., 47., 13., 39., 20., 15., 69., 15., 17., 28., 16.,  6.,\n",
       "       22., 31.,  7., 14.,  5., 23., 13., 19., 12., 13., 23., 15., 50.,\n",
       "        9., 18., 51., 12., 48., 25.,  6., 18., 22., 12., 30., 16.,  7.,\n",
       "       31., 37., 13., 15., 13.,  8., 19.,  6., 10., 38., 28.,  9., 31.,\n",
       "       22., 19., 10., 12., 13., 13., 30., 13., 40., 13., 15., 21., 29.,\n",
       "       25., 14.,  9.,  9., 43., 63., 18.,  6.,  7., 23., 26., 23., 18.,\n",
       "       31., 26.,  9., 22., 40., 48., 51.,  2., 19.,  6.,  7., 14., 26.,\n",
       "       22., 35., 41., 27., 11., 51., 39.,  7., 15.,  6., 51.,  5., 51.,\n",
       "       15., 12., 18., 21., 21.,  6., 10., 37., 25., 26.,  9., 10.,  9.,\n",
       "        4., 34.,  8.,  7., 19., 73., 32., 11., 37., 11.,  5., 12.,  4.,\n",
       "       11., 10., 11., 22., 30.,  7., 20., 22., 25., 16., 11., 43., 11.,\n",
       "       32., 12.,  8.,  3., 40., 27., 35., 45., 14., 23.,  8., 37., 70.,\n",
       "       29., 17.,  9.,  5.,  3., 34., 12., 16., 36.,  5., 22., 17., 10.,\n",
       "        8., 12., 34., 23., 37., 24., 29., 24., 25.,  3., 12.,  5., 19.,\n",
       "        8., 37.,  9.,  9.,  8., 17., 29., 27., 28., 13., 44., 18., 18.,\n",
       "       14., 12.,  7., 34., 46., 13., 14., 16., 35., 17., 29., 22.,  7.,\n",
       "       40., 35.,  7., 17., 27., 21., 33., 10., 40., 39., 44., 17., 10.,\n",
       "       21.,  7., 22., 18., 47., 33., 19., 15., 18., 53., 10., 18., 25.,\n",
       "       46., 19., 15., 25., 11.,  3., 14., 35., 25., 28., 12., 15.,  4.,\n",
       "       17., 53., 21., 18., 30.,  5., 16., 48., 23., 30.,  4., 14.,  6.,\n",
       "       22., 34., 19., 68., 15., 14.,  8., 25., 34., 26., 11.,  4., 70.,\n",
       "       22., 23., 44., 19., 18., 15.,  8., 25.,  9., 28., 37., 41., 19.,\n",
       "       19., 70., 15., 27., 32., 16.,  5.,  6.,  9., 10., 11.,  8., 11.,\n",
       "       14., 16., 17., 36., 35., 30., 49., 44.,  8., 16., 29., 31., 22.,\n",
       "       17., 16., 35., 19., 36.,  6.,  4., 20., 20., 19.,  9., 21., 18.,\n",
       "       28., 20.,  8., 46., 30.,  7., 35., 13., 19., 38.,  6., 21.,  5.,\n",
       "        7., 58., 10., 19., 10., 25., 13., 21., 43.,  9.,  4., 26., 17.,\n",
       "       24., 10., 14.,  8., 22.,  8.,  5., 15., 11., 26., 17.,  6., 45.,\n",
       "       14., 27., 11., 30., 17., 25., 12., 23., 25.,  6.,  8., 19., 41.,\n",
       "       23., 22., 25., 13., 12.,  8., 15., 19., 15., 16., 27.,  7.,  4.,\n",
       "       32.,  6.,  8., 12., 27., 25.,  6., 20., 16.,  9., 23.,  6.,  5.,\n",
       "       75., 11., 10., 42., 14., 10.,  4., 42., 23., 16.,  8., 75., 28.,\n",
       "       19., 21., 17., 18., 17., 16., 34., 12.,  4.,  7., 13., 29., 19.,\n",
       "       20.,  3., 18., 29., 19., 15., 15., 22.,  6., 36., 15., 37., 29.,\n",
       "       27., 13., 21.,  6., 13., 26., 14.,  6., 33.,  8., 14., 12., 22.,\n",
       "       69., 20., 47., 19.,  9., 30., 34., 22., 18., 14., 35., 14., 33.,\n",
       "       34., 21., 19., 26., 20.,  6., 15., 15., 10., 42., 43., 13., 22.,\n",
       "       18.,  8., 19., 29., 10., 22., 19., 39., 19., 15., 12., 21., 18.,\n",
       "        4.,  7., 10., 28.,  9., 18., 53., 13.,  8., 21., 11., 11., 28.,\n",
       "       37., 21.,  9., 11., 29.,  8., 18., 28.,  5., 11., 20., 66., 19.,\n",
       "       18., 86., 31., 14., 20., 20., 30., 12.,  7.,  6., 23., 15., 22.,\n",
       "       23., 35.,  4.,  4., 60., 37., 34., 41., 11., 12., 15.,  9., 21.,\n",
       "       30., 10., 30., 16., 25., 62., 20., 27., 40., 15.,  7., 22., 22.,\n",
       "       35., 19., 11., 35., 37., 18., 22., 26., 27., 52., 17.,  7., 43.,\n",
       "       12., 18.,  4., 36.,  4., 38.,  9., 29., 30.,  8., 26.,  6., 27.,\n",
       "       16., 62., 17., 25.,  5.,  8.,  6., 17., 11., 16., 63., 11., 24.,\n",
       "       29.,  7.,  8., 15., 12.,  6., 13., 54., 16., 12., 40., 48.,  7.,\n",
       "       14., 21., 11., 18., 12.,  9., 35., 24.,  4., 14., 11., 54., 12.,\n",
       "       51., 12., 33., 19.,  6., 12.,  5.,  5., 67., 16., 16.,  8.,  8.,\n",
       "        6., 12., 11., 48., 27., 49., 23., 13., 26., 27., 30., 17.,  9.,\n",
       "       16.,  7., 26., 38., 11., 19., 51., 38., 10., 12., 11., 27.])"
      ]
     },
     "execution_count": 62,
     "metadata": {},
     "output_type": "execute_result"
    }
   ],
   "source": [
    "np.random.seed(160)\n",
    "def simulateFirstCalmDay(M):\n",
    "    # Create a numpy array to store our W values\n",
    "    W_values = np.empty(M)\n",
    "\n",
    "    # Run simulation of W, M times\n",
    "    for m in range(M):\n",
    "        \n",
    "        # Run simulation by first starting at X_0 = 4; establish initial conditions\n",
    "        current_state = 4 # Starting value of X_0\n",
    "        n = 0 # Starting value of n\n",
    "        while True:\n",
    "            n += 1 # Increase n by 1\n",
    "\n",
    "            # Given value of current state, determine the next value based on 1 step transition matrix w/ row of the current state as p values\n",
    "            new_state = np.random.choice(range(0, 7), p = P[current_state])\n",
    "\n",
    "            # Exit the while loop if we ever hit the state 0, stopping the counter\n",
    "            if new_state == 0:\n",
    "                break\n",
    "\n",
    "            # Otherwise, set current state to new state and run loop again\n",
    "            else:\n",
    "                current_state = new_state\n",
    "\n",
    "        # Append values of W to list\n",
    "        W_values[m] = n\n",
    "\n",
    "    return W_values\n",
    "\n",
    "W_simulations = simulateFirstCalmDay(1000)\n",
    "W_simulations"
   ]
  },
  {
   "cell_type": "code",
   "execution_count": 84,
   "metadata": {},
   "outputs": [
    {
     "data": {
      "text/plain": [
       "Text(0.5, 1.0, 'Histogram of the values of W')"
      ]
     },
     "execution_count": 84,
     "metadata": {},
     "output_type": "execute_result"
    },
    {
     "data": {
      "image/png": "[encoded data removed]",
      "text/plain": [
       "<Figure size 640x480 with 1 Axes>"
      ]
     },
     "metadata": {},
     "output_type": "display_data"
    }
   ],
   "source": [
    "# PLOT THE HISTOGRAM OF W\n",
    "\n",
    "# Set the bins of the histogram to go from n = 1 to the maximum value of n in the MC simulation of W\n",
    "bins = range(1, int(np.max(W_simulations)) + 2)\n",
    "\n",
    "plt.hist(W_simulations, bins = bins)\n",
    "plt.xlabel('Value of W')\n",
    "plt.ylabel('Frequency')\n",
    "plt.title('Histogram of the values of W')"
   ]
  },
  {
   "cell_type": "code",
   "execution_count": 87,
   "metadata": {},
   "outputs": [
    {
     "name": "stdout",
     "output_type": "stream",
     "text": [
      "The estimated expected value of W is 21.246\n"
     ]
    }
   ],
   "source": [
    "# Calculate the estimated expectation of W by getting the empirical mean of W_simulations\n",
    "empirical_mean = np.mean(W_simulations)\n",
    "\n",
    "print(f\"The estimated expected value of W is {empirical_mean}\")"
   ]
  },
  {
   "cell_type": "markdown",
   "metadata": {},
   "source": [
    "# Problem 2 (8 points)"
   ]
  },
  {
   "cell_type": "markdown",
   "metadata": {},
   "source": [
    "You start with **six** dice. Roll all the dice simultaneously and put aside those dice that come up 1 (\"snake eyes\"). Then, in the second round roll the remaining dice, putting aside those dice that come up 1. And so on, until no dice are left.\n",
    "\n",
    "Using $10^5$ experiments, estimate the probability that it will take *more than 10 rounds* to end this game.\n",
    "\n",
    "To do so, set up a Markov Chain $(X_n)$ for the number of dice remaining (so start with $X_0 =6$) and work with the respective transition matrix. Be sure to clearly type out $\\mathbf{P}$ as part of your solution. "
   ]
  },
  {
   "cell_type": "markdown",
   "metadata": {},
   "source": [
    "Student notes: The sample space is the amount of dice remaining. Since we start with 6, and must end at 0, the sample space $S = \\{1,2,3,4,5,6\\}$, so the transition matrix is 7 rows by 7 columns. We can get the probability that we go from i dice remaining to j dice remaining by using the binomial distribution. We're rolling i die, and want j die remaining, so we choose j out of i die to survive, with the probability of survival for each die being the same as the probability of not rolling a 1, which is $\\frac{5}{6}$. So for the transition matrix, $\\mathbf{P}_{ij}=\\binom{i}{j}\\frac{5}{6}^j\\frac{1}{6}^{i-j}$ which corresponds to the pmf of the binomial distribution when accounting for the parameters set."
   ]
  },
  {
   "cell_type": "code",
   "execution_count": 102,
   "metadata": {},
   "outputs": [
    {
     "data": {
      "text/html": [
       "<div>\n",
       "<style scoped>\n",
       "    .dataframe tbody tr th:only-of-type {\n",
       "        vertical-align: middle;\n",
       "    }\n",
       "\n",
       "    .dataframe tbody tr th {\n",
       "        vertical-align: top;\n",
       "    }\n",
       "\n",
       "    .dataframe thead th {\n",
       "        text-align: right;\n",
       "    }\n",
       "</style>\n",
       "<table border=\"1\" class=\"dataframe\">\n",
       "  <thead>\n",
       "    <tr style=\"text-align: right;\">\n",
       "      <th></th>\n",
       "      <th>0</th>\n",
       "      <th>1</th>\n",
       "      <th>2</th>\n",
       "      <th>3</th>\n",
       "      <th>4</th>\n",
       "      <th>5</th>\n",
       "      <th>6</th>\n",
       "    </tr>\n",
       "  </thead>\n",
       "  <tbody>\n",
       "    <tr>\n",
       "      <th>0</th>\n",
       "      <td>1.000000</td>\n",
       "      <td>0.000000</td>\n",
       "      <td>0.000000</td>\n",
       "      <td>0.000000</td>\n",
       "      <td>0.000000</td>\n",
       "      <td>0.000000</td>\n",
       "      <td>0.000000</td>\n",
       "    </tr>\n",
       "    <tr>\n",
       "      <th>1</th>\n",
       "      <td>0.166667</td>\n",
       "      <td>0.833333</td>\n",
       "      <td>0.000000</td>\n",
       "      <td>0.000000</td>\n",
       "      <td>0.000000</td>\n",
       "      <td>0.000000</td>\n",
       "      <td>0.000000</td>\n",
       "    </tr>\n",
       "    <tr>\n",
       "      <th>2</th>\n",
       "      <td>0.027778</td>\n",
       "      <td>0.277778</td>\n",
       "      <td>0.694444</td>\n",
       "      <td>0.000000</td>\n",
       "      <td>0.000000</td>\n",
       "      <td>0.000000</td>\n",
       "      <td>0.000000</td>\n",
       "    </tr>\n",
       "    <tr>\n",
       "      <th>3</th>\n",
       "      <td>0.004630</td>\n",
       "      <td>0.069444</td>\n",
       "      <td>0.347222</td>\n",
       "      <td>0.578704</td>\n",
       "      <td>0.000000</td>\n",
       "      <td>0.000000</td>\n",
       "      <td>0.000000</td>\n",
       "    </tr>\n",
       "    <tr>\n",
       "      <th>4</th>\n",
       "      <td>0.000772</td>\n",
       "      <td>0.015432</td>\n",
       "      <td>0.115741</td>\n",
       "      <td>0.385802</td>\n",
       "      <td>0.482253</td>\n",
       "      <td>0.000000</td>\n",
       "      <td>0.000000</td>\n",
       "    </tr>\n",
       "    <tr>\n",
       "      <th>5</th>\n",
       "      <td>0.000129</td>\n",
       "      <td>0.003215</td>\n",
       "      <td>0.032150</td>\n",
       "      <td>0.160751</td>\n",
       "      <td>0.401878</td>\n",
       "      <td>0.401878</td>\n",
       "      <td>0.000000</td>\n",
       "    </tr>\n",
       "    <tr>\n",
       "      <th>6</th>\n",
       "      <td>0.000021</td>\n",
       "      <td>0.000643</td>\n",
       "      <td>0.008038</td>\n",
       "      <td>0.053584</td>\n",
       "      <td>0.200939</td>\n",
       "      <td>0.401878</td>\n",
       "      <td>0.334898</td>\n",
       "    </tr>\n",
       "  </tbody>\n",
       "</table>\n",
       "</div>"
      ],
      "text/plain": [
       "          0         1         2         3         4         5         6\n",
       "0  1.000000  0.000000  0.000000  0.000000  0.000000  0.000000  0.000000\n",
       "1  0.166667  0.833333  0.000000  0.000000  0.000000  0.000000  0.000000\n",
       "2  0.027778  0.277778  0.694444  0.000000  0.000000  0.000000  0.000000\n",
       "3  0.004630  0.069444  0.347222  0.578704  0.000000  0.000000  0.000000\n",
       "4  0.000772  0.015432  0.115741  0.385802  0.482253  0.000000  0.000000\n",
       "5  0.000129  0.003215  0.032150  0.160751  0.401878  0.401878  0.000000\n",
       "6  0.000021  0.000643  0.008038  0.053584  0.200939  0.401878  0.334898"
      ]
     },
     "execution_count": 102,
     "metadata": {},
     "output_type": "execute_result"
    }
   ],
   "source": [
    "# Import binomial pmf to calculate transition matrix values\n",
    "from scipy.stats import binom\n",
    "\n",
    "# Initialize transition matrix P\n",
    "P = np.zeros((7, 7))\n",
    "\n",
    "# Iterate over row values 0 to 6\n",
    "for i in range(7):\n",
    "    # Iterate over column values from 0 to i (can't end up with more than i dice remaining)\n",
    "    for j in range(i+1):\n",
    "        # The probability of getting from i dice to j dice remaining is the binomial pmf with n = i, k = j, and p = 5/6\n",
    "        P[i, j] = binom.pmf(j, i, 5/6)  # Probability that j dice survive given i dice survived last round.\n",
    "\n",
    "df_P = pd.DataFrame(P)\n",
    "df_P"
   ]
  },
  {
   "cell_type": "code",
   "execution_count": 104,
   "metadata": {},
   "outputs": [
    {
     "data": {
      "text/plain": [
       "array([14., 24., 11., ..., 15., 16., 14.])"
      ]
     },
     "execution_count": 104,
     "metadata": {},
     "output_type": "execute_result"
    }
   ],
   "source": [
    "np.random.seed(160)\n",
    "\n",
    "# Initialize numpy array to store amount of rounds it takes for each simulation to end the game\n",
    "def simulateRoundsToEnd(M):\n",
    "    # Create a numpy array to store the amount of rounds it takes for the game to end\n",
    "    rounds_count = np.empty(M)\n",
    "\n",
    "    # Run simulation of X_n, M times\n",
    "    for m in range(M):\n",
    "        \n",
    "        # Run simulation by first starting at X_0 = 6; establish initial conditions\n",
    "        current_state = 6 # Starting value of X_0\n",
    "        n = 0 # Starting value of n\n",
    "        while True:\n",
    "            n += 1 # Increase n by 1\n",
    "\n",
    "            # Given value of current state, determine the next value based on 1 step transition matrix w/ row of the current state as p values\n",
    "            new_state = np.random.choice(range(0, 7), p = P[current_state])\n",
    "\n",
    "            # Exit the while loop if we ever hit the state 0, stopping the counter\n",
    "            if new_state == 0:\n",
    "                break\n",
    "\n",
    "            # Otherwise, set current state to new state and run loop again\n",
    "            else:\n",
    "                current_state = new_state\n",
    "\n",
    "        # Append n values to list\n",
    "        rounds_count[m] = n\n",
    "\n",
    "    return rounds_count\n",
    "\n",
    "rounds_count = simulateRoundsToEnd(10**5)\n",
    "rounds_count"
   ]
  },
  {
   "cell_type": "code",
   "execution_count": 116,
   "metadata": {},
   "outputs": [
    {
     "name": "stdout",
     "output_type": "stream",
     "text": [
      "The estimated probability that it takes more than 10 rounds to end the game is 0.65084\n"
     ]
    }
   ],
   "source": [
    "# Calculate the probability it takes more than 10 rounds to end the game\n",
    "estimated_probability = np.mean(rounds_count > 10) # count up values in array that are greater than 10, then divide by sample size 10^5\n",
    "print(f'The estimated probability that it takes more than 10 rounds to end the game is {estimated_probability}')"
   ]
  }
 ],
 "metadata": {
  "anaconda-cloud": {},
  "kernelspec": {
   "display_name": "Python 3 (ipykernel)",
   "language": "python",
   "name": "python3"
  },
  "language_info": {
   "codemirror_mode": {
    "name": "ipython",
    "version": 3
   },
   "file_extension": ".py",
   "mimetype": "text/x-python",
   "name": "python",
   "nbconvert_exporter": "python",
   "pygments_lexer": "ipython3",
   "version": "3.12.7"
  }
 },
 "nbformat": 4,
 "nbformat_minor": 4
}
